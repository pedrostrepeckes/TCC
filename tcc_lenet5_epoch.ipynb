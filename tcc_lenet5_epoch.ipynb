{
  "nbformat": 4,
  "nbformat_minor": 0,
  "metadata": {
    "colab": {
      "name": "tcc_lenet5_epoch",
      "provenance": [],
      "collapsed_sections": [],
      "include_colab_link": true
    },
    "kernelspec": {
      "name": "python3",
      "display_name": "Python 3"
    },
    "accelerator": "GPU"
  },
  "cells": [
    {
      "cell_type": "markdown",
      "metadata": {
        "id": "view-in-github",
        "colab_type": "text"
      },
      "source": [
        "<a href=\"https://colab.research.google.com/github/pedrostrepeckes/TCC/blob/master/tcc_lenet5_epoch.ipynb\" target=\"_parent\"><img src=\"https://colab.research.google.com/assets/colab-badge.svg\" alt=\"Open In Colab\"/></a>"
      ]
    },
    {
      "cell_type": "markdown",
      "metadata": {
        "id": "RWR-XVu55h4_",
        "colab_type": "text"
      },
      "source": [
        "LeNet5"
      ]
    },
    {
      "cell_type": "code",
      "metadata": {
        "id": "zs8_kpoP5jQd",
        "colab_type": "code",
        "outputId": "daa28a6f-873e-48ab-9066-3c86ef542db2",
        "colab": {
          "base_uri": "https://localhost:8080/",
          "height": 202
        }
      },
      "source": [
        "import tensorflow as tf\n",
        "import keras\n",
        "import gc\n",
        "from keras import optimizers\n",
        "from keras.datasets import cifar10\n",
        "from keras.models import Sequential\n",
        "from keras.layers import Conv2D, Conv1D, Dense, Flatten, MaxPooling2D, Dropout, AveragePooling2D\n",
        "from keras.callbacks import LearningRateScheduler, TensorBoard\n",
        "import matplotlib.pyplot as plt\n",
        "import random\n",
        "import time\n",
        "from google.colab import drive\n",
        "from scipy import stats\n",
        "import pandas as pd\n",
        "\n",
        "drive.mount('/content/gdrive')\n",
        "\n",
        "device_name = tf.test.gpu_device_name()\n",
        "if device_name != '/device:GPU:0':\n",
        "  raise SystemError('GPU device not found')\n",
        "print('Found GPU at: {}'.format(device_name))"
      ],
      "execution_count": 1,
      "outputs": [
        {
          "output_type": "display_data",
          "data": {
            "text/html": [
              "<p style=\"color: red;\">\n",
              "The default version of TensorFlow in Colab will soon switch to TensorFlow 2.x.<br>\n",
              "We recommend you <a href=\"https://www.tensorflow.org/guide/migrate\" target=\"_blank\">upgrade</a> now \n",
              "or ensure your notebook will continue to use TensorFlow 1.x via the <code>%tensorflow_version 1.x</code> magic:\n",
              "<a href=\"https://colab.research.google.com/notebooks/tensorflow_version.ipynb\" target=\"_blank\">more info</a>.</p>\n"
            ],
            "text/plain": [
              "<IPython.core.display.HTML object>"
            ]
          },
          "metadata": {
            "tags": []
          }
        },
        {
          "output_type": "stream",
          "text": [
            "Using TensorFlow backend.\n"
          ],
          "name": "stderr"
        },
        {
          "output_type": "stream",
          "text": [
            "Go to this URL in a browser: https://accounts.google.com/o/oauth2/auth?client_id=947318989803-6bn6qk8qdgf4n4g3pfee6491hc0brc4i.apps.googleusercontent.com&redirect_uri=urn%3aietf%3awg%3aoauth%3a2.0%3aoob&response_type=code&scope=email%20https%3a%2f%2fwww.googleapis.com%2fauth%2fdocs.test%20https%3a%2f%2fwww.googleapis.com%2fauth%2fdrive%20https%3a%2f%2fwww.googleapis.com%2fauth%2fdrive.photos.readonly%20https%3a%2f%2fwww.googleapis.com%2fauth%2fpeopleapi.readonly\n",
            "\n",
            "Enter your authorization code:\n",
            "··········\n",
            "Mounted at /content/gdrive\n",
            "Found GPU at: /device:GPU:0\n"
          ],
          "name": "stdout"
        }
      ]
    },
    {
      "cell_type": "code",
      "metadata": {
        "id": "FXY_0uQOFoTx",
        "colab_type": "code",
        "colab": {
          "base_uri": "https://localhost:8080/",
          "height": 51
        },
        "outputId": "f598cef5-f0ab-4ae3-fa2a-68d768fa79e3"
      },
      "source": [
        "(x_train, y_train), (x_test, y_test) = cifar10.load_data()"
      ],
      "execution_count": 2,
      "outputs": [
        {
          "output_type": "stream",
          "text": [
            "Downloading data from https://www.cs.toronto.edu/~kriz/cifar-10-python.tar.gz\n",
            "170500096/170498071 [==============================] - 6s 0us/step\n"
          ],
          "name": "stdout"
        }
      ]
    },
    {
      "cell_type": "markdown",
      "metadata": {
        "id": "JdpfQAflY2O4",
        "colab_type": "text"
      },
      "source": [
        "# Definicoes\n",
        "\n",
        "---\n",
        "\n"
      ]
    },
    {
      "cell_type": "code",
      "metadata": {
        "id": "uPP1IrpwY5vn",
        "colab_type": "code",
        "colab": {}
      },
      "source": [
        "epoch1 = 30\n",
        "epoch2 = 50\n",
        "epoch3 = 100\n",
        "images_path = '/content/gdrive/My Drive/TCC/tcc_uergs/codigos/Redes/LeNet5/epoch/'\n",
        "size_batch = 128"
      ],
      "execution_count": 0,
      "outputs": []
    },
    {
      "cell_type": "code",
      "metadata": {
        "id": "Ro9TMxBN5wFd",
        "colab_type": "code",
        "colab": {}
      },
      "source": [
        "def build_model():\n",
        "    model = Sequential()\n",
        "    model.add(Conv2D(6, (5, 5), padding='valid', activation = 'relu', kernel_initializer='he_normal', input_shape=(32,32,3)))\n",
        "    model.add(MaxPooling2D((2, 2), strides=(2, 2)))\n",
        "    model.add(Conv2D(16, (5, 5), padding='valid', activation = 'relu', kernel_initializer='he_normal'))\n",
        "    model.add(MaxPooling2D((2, 2), strides=(2, 2)))\n",
        "    model.add(Flatten())\n",
        "    model.add(Dense(120, activation = 'relu', kernel_initializer='he_normal'))\n",
        "    model.add(Dense(84, activation = 'relu', kernel_initializer='he_normal'))\n",
        "    model.add(Dense(10, activation = 'softmax', kernel_initializer='he_normal'))\n",
        "    sgd = optimizers.SGD(lr=.1, momentum=0.9, nesterov=True)\n",
        "    model.compile(loss='categorical_crossentropy', optimizer=sgd, metrics=['accuracy'])\n",
        "    return model\n",
        "\n",
        "def scheduler1(epoch):\n",
        "    if epoch < 30:\n",
        "      return 0.01\n",
        "    if epoch < 50:\n",
        "      return 0.001\n",
        "    if epoch < 100:\n",
        "      return 0.0001\n",
        "    return 0.001\n",
        "  \n",
        "def scheduler2(epoch):\n",
        "    if epoch < 30:\n",
        "      return 0.01\n",
        "    if epoch < 50:\n",
        "      return 0.001\n",
        "    if epoch < 100:\n",
        "      return 0.0001\n",
        "    return 0.001\n",
        "\n",
        "def scheduler3(epoch):\n",
        "    if epoch < 30:\n",
        "      return 0.01\n",
        "    if epoch < 50:\n",
        "      return 0.001\n",
        "    if epoch < 100:\n",
        "      return 0.0001\n",
        "    return 0.001"
      ],
      "execution_count": 0,
      "outputs": []
    },
    {
      "cell_type": "markdown",
      "metadata": {
        "id": "U9oFcKvLHtUN",
        "colab_type": "text"
      },
      "source": [
        "# Preprocessing"
      ]
    },
    {
      "cell_type": "code",
      "metadata": {
        "id": "0b-EQmt5Fi3r",
        "colab_type": "code",
        "outputId": "f3d76be6-879b-4e9f-8208-ee0a0f19aab4",
        "colab": {
          "base_uri": "https://localhost:8080/",
          "height": 51
        }
      },
      "source": [
        "print(x_train.mean())\n",
        "mean = {}\n",
        "mean[0] = x_train[:,:,:,0].mean()\n",
        "mean[1] = x_train[:,:,:,1].mean()\n",
        "mean[2] = x_train[:,:,:,2].mean()\n",
        "\n",
        "print(x_train.std())\n",
        "std = {}\n",
        "std[0] = x_train[:,:,:,0].std()\n",
        "std[1] = x_train[:,:,:,1].std()\n",
        "std[2] = x_train[:,:,:,2].std()\n",
        "\n",
        "#for i in range(3):\n",
        "#        x_train[:,:,:,i] = (x_train[:,:,:,i] - mean[i]) / std[i]\n",
        "#        x_test[:,:,:,i] = (x_test[:,:,:,i] - mean[i]) / std[i]\n",
        "\n",
        "\n",
        "#uma imagem\n",
        "#x_train[1,:,:,:].size\n",
        "#x_train[1,:,:,:]\n"
      ],
      "execution_count": 5,
      "outputs": [
        {
          "output_type": "stream",
          "text": [
            "120.70756512369792\n",
            "64.1500758911213\n"
          ],
          "name": "stdout"
        }
      ]
    },
    {
      "cell_type": "code",
      "metadata": {
        "id": "5OIDTfp3FEqe",
        "colab_type": "code",
        "outputId": "a11f78c3-9d76-4d5a-b456-dd2b2741d4c3",
        "colab": {
          "base_uri": "https://localhost:8080/",
          "height": 663
        }
      },
      "source": [
        "Y_test = y_test\n",
        "y_train = keras.utils.to_categorical(y_train, 10)\n",
        "y_test = keras.utils.to_categorical(y_test, 10)\n",
        "x_train = x_train.astype('float32')\n",
        "x_test = x_test.astype('float32')\n",
        "x_train /= 255.0\n",
        "x_test /= 255.0\n",
        "\n",
        "print(x_test.mean)\n",
        "#df_x_test = pd.DataFrame( data=x_test[1:,1:], index=x_test[1:,0], columns=x_test[0,1:] )\n",
        "\n",
        "# build network\n",
        "model_lr1 = build_model()\n",
        "model_lr2 = build_model()\n",
        "model_lr3 = build_model()\n",
        "print(model_lr1.summary())\n",
        "\n",
        "# set callback\n",
        "#tb_cb = TensorBoard(log_dir='./lenet', histogram_freq=0)\n",
        "change_lr1 = LearningRateScheduler(scheduler1)\n",
        "change_lr2 = LearningRateScheduler(scheduler2)\n",
        "change_lr3 = LearningRateScheduler(scheduler3)\n",
        "#cbks = [change_lr,tb_cb]\n",
        "cbks1 = [change_lr1]\n",
        "cbks2 = [change_lr2]\n",
        "cbks3 = [change_lr3]\n",
        "\n",
        "#plt.imshow(x_test[random.randint(1, 10000)])"
      ],
      "execution_count": 6,
      "outputs": [
        {
          "output_type": "stream",
          "text": [
            "<built-in method mean of numpy.ndarray object at 0x7fc090da65d0>\n",
            "WARNING:tensorflow:From /usr/local/lib/python3.6/dist-packages/keras/backend/tensorflow_backend.py:66: The name tf.get_default_graph is deprecated. Please use tf.compat.v1.get_default_graph instead.\n",
            "\n",
            "WARNING:tensorflow:From /usr/local/lib/python3.6/dist-packages/keras/backend/tensorflow_backend.py:541: The name tf.placeholder is deprecated. Please use tf.compat.v1.placeholder instead.\n",
            "\n",
            "WARNING:tensorflow:From /usr/local/lib/python3.6/dist-packages/keras/backend/tensorflow_backend.py:4479: The name tf.truncated_normal is deprecated. Please use tf.random.truncated_normal instead.\n",
            "\n",
            "WARNING:tensorflow:From /usr/local/lib/python3.6/dist-packages/keras/backend/tensorflow_backend.py:4267: The name tf.nn.max_pool is deprecated. Please use tf.nn.max_pool2d instead.\n",
            "\n",
            "WARNING:tensorflow:From /usr/local/lib/python3.6/dist-packages/keras/optimizers.py:793: The name tf.train.Optimizer is deprecated. Please use tf.compat.v1.train.Optimizer instead.\n",
            "\n",
            "WARNING:tensorflow:From /usr/local/lib/python3.6/dist-packages/keras/backend/tensorflow_backend.py:3576: The name tf.log is deprecated. Please use tf.math.log instead.\n",
            "\n",
            "Model: \"sequential_1\"\n",
            "_________________________________________________________________\n",
            "Layer (type)                 Output Shape              Param #   \n",
            "=================================================================\n",
            "conv2d_1 (Conv2D)            (None, 28, 28, 6)         456       \n",
            "_________________________________________________________________\n",
            "max_pooling2d_1 (MaxPooling2 (None, 14, 14, 6)         0         \n",
            "_________________________________________________________________\n",
            "conv2d_2 (Conv2D)            (None, 10, 10, 16)        2416      \n",
            "_________________________________________________________________\n",
            "max_pooling2d_2 (MaxPooling2 (None, 5, 5, 16)          0         \n",
            "_________________________________________________________________\n",
            "flatten_1 (Flatten)          (None, 400)               0         \n",
            "_________________________________________________________________\n",
            "dense_1 (Dense)              (None, 120)               48120     \n",
            "_________________________________________________________________\n",
            "dense_2 (Dense)              (None, 84)                10164     \n",
            "_________________________________________________________________\n",
            "dense_3 (Dense)              (None, 10)                850       \n",
            "=================================================================\n",
            "Total params: 62,006\n",
            "Trainable params: 62,006\n",
            "Non-trainable params: 0\n",
            "_________________________________________________________________\n",
            "None\n"
          ],
          "name": "stdout"
        }
      ]
    },
    {
      "cell_type": "code",
      "metadata": {
        "id": "IpG66iImF8xX",
        "colab_type": "code",
        "outputId": "f9f37fb7-85e9-45b0-f347-f7c51d81c885",
        "colab": {
          "base_uri": "https://localhost:8080/",
          "height": 527
        }
      },
      "source": [
        "# start train\n",
        "start = time.time()\n",
        "history = {}\n",
        "history[0] = model_lr1.fit(x_train, y_train,\n",
        "                           batch_size=size_batch,\n",
        "                           epochs=epoch1,\n",
        "                           callbacks=cbks1,\n",
        "                           validation_data=(x_test, y_test),\n",
        "                           shuffle=True)\n",
        "end = time.time()\n",
        "tempo_dec = end - start\n",
        "print('Tempo em segundos: '+ str(tempo_dec))"
      ],
      "execution_count": 0,
      "outputs": [
        {
          "output_type": "stream",
          "text": [
            "WARNING:tensorflow:From /usr/local/lib/python3.6/dist-packages/tensorflow_core/python/ops/math_grad.py:1424: where (from tensorflow.python.ops.array_ops) is deprecated and will be removed in a future version.\n",
            "Instructions for updating:\n",
            "Use tf.where in 2.0, which has the same broadcast rule as np.where\n",
            "WARNING:tensorflow:From /usr/local/lib/python3.6/dist-packages/keras/backend/tensorflow_backend.py:1033: The name tf.assign_add is deprecated. Please use tf.compat.v1.assign_add instead.\n",
            "\n",
            "WARNING:tensorflow:From /usr/local/lib/python3.6/dist-packages/keras/backend/tensorflow_backend.py:1020: The name tf.assign is deprecated. Please use tf.compat.v1.assign instead.\n",
            "\n",
            "WARNING:tensorflow:From /usr/local/lib/python3.6/dist-packages/keras/backend/tensorflow_backend.py:3005: The name tf.Session is deprecated. Please use tf.compat.v1.Session instead.\n",
            "\n",
            "Train on 50000 samples, validate on 10000 samples\n",
            "Epoch 1/30\n",
            "WARNING:tensorflow:From /usr/local/lib/python3.6/dist-packages/keras/backend/tensorflow_backend.py:190: The name tf.get_default_session is deprecated. Please use tf.compat.v1.get_default_session instead.\n",
            "\n",
            "WARNING:tensorflow:From /usr/local/lib/python3.6/dist-packages/keras/backend/tensorflow_backend.py:197: The name tf.ConfigProto is deprecated. Please use tf.compat.v1.ConfigProto instead.\n",
            "\n",
            "WARNING:tensorflow:From /usr/local/lib/python3.6/dist-packages/keras/backend/tensorflow_backend.py:207: The name tf.global_variables is deprecated. Please use tf.compat.v1.global_variables instead.\n",
            "\n",
            "WARNING:tensorflow:From /usr/local/lib/python3.6/dist-packages/keras/backend/tensorflow_backend.py:216: The name tf.is_variable_initialized is deprecated. Please use tf.compat.v1.is_variable_initialized instead.\n",
            "\n",
            "WARNING:tensorflow:From /usr/local/lib/python3.6/dist-packages/keras/backend/tensorflow_backend.py:223: The name tf.variables_initializer is deprecated. Please use tf.compat.v1.variables_initializer instead.\n",
            "\n",
            "50000/50000 [==============================] - 10s 205us/step - loss: 1.8031 - acc: 0.3422 - val_loss: 1.5450 - val_acc: 0.4347\n",
            "Epoch 2/30\n",
            "50000/50000 [==============================] - 4s 82us/step - loss: 1.4767 - acc: 0.4674 - val_loss: 1.5786 - val_acc: 0.4367\n",
            "Epoch 3/30\n",
            "50000/50000 [==============================] - 4s 81us/step - loss: 1.3509 - acc: 0.5166 - val_loss: 1.3591 - val_acc: 0.5155\n",
            "Epoch 4/30\n",
            "50000/50000 [==============================] - 4s 83us/step - loss: 1.2713 - acc: 0.5473 - val_loss: 1.2472 - val_acc: 0.5555\n",
            "Epoch 5/30\n",
            "44544/50000 [=========================>....] - ETA: 0s - loss: 1.2119 - acc: 0.5691"
          ],
          "name": "stdout"
        }
      ]
    },
    {
      "cell_type": "code",
      "metadata": {
        "id": "nQYa8DeRStAv",
        "colab_type": "code",
        "colab": {}
      },
      "source": [
        "start = time.time()\n",
        "history[1] = model_lr2.fit(x_train, y_train,\n",
        "                        batch_size=size_batch,\n",
        "                        epochs=epoch2,\n",
        "                        callbacks=cbks2,\n",
        "                        validation_data=(x_test, y_test),\n",
        "                        shuffle=True)\n",
        "end = time.time()\n",
        "tempo_dec = end - start\n",
        "print('Tempo em segundos: '+ str(tempo_dec))\n"
      ],
      "execution_count": 0,
      "outputs": []
    },
    {
      "cell_type": "code",
      "metadata": {
        "id": "8GBs0e6TSvm_",
        "colab_type": "code",
        "colab": {}
      },
      "source": [
        "\n",
        "start = time.time()\n",
        "history[2] = model_lr3.fit(x_train, y_train,\n",
        "                        batch_size=size_batch,\n",
        "                        epochs=epoch3,\n",
        "                        callbacks=cbks3,\n",
        "                        validation_data=(x_test, y_test),\n",
        "                        shuffle=True)\n",
        "end = time.time()\n",
        "tempo_dec = end - start\n",
        "print('Tempo em segundos: '+ str(tempo_dec))"
      ],
      "execution_count": 0,
      "outputs": []
    },
    {
      "cell_type": "code",
      "metadata": {
        "id": "ZDKh_Bxz6NIK",
        "colab_type": "code",
        "colab": {}
      },
      "source": [
        "model_lr1.save(images_path + 'lenet1.h5')\n",
        "model_lr2.save(images_path + 'lenet2.h5')\n",
        "model_lr3.save(images_path + 'lenet3.h5')\n",
        "fig, ax = plt.subplots()\n",
        "ax.plot(history[0].history['acc'], label='Modelo 1')\n",
        "ax.plot(history[1].history['acc'], label='Modelo 2')\n",
        "ax.plot(history[2].history['acc'], label='Modelo 3')\n",
        "\n",
        "legend = ax.legend(loc='lower center', shadow=True, fontsize='large')\n",
        "plt.xlabel('Epoca')\n",
        "plt.ylabel('Accuracy')\n",
        "plt.savefig(images_path + 'metric_var_lr_accuracy.png', bbox_inches='tight', dpi=1000)\n",
        "plt.grid(True)\n",
        "plt.show()"
      ],
      "execution_count": 0,
      "outputs": []
    },
    {
      "cell_type": "code",
      "metadata": {
        "id": "I5cFgl4z8jTB",
        "colab_type": "code",
        "colab": {}
      },
      "source": [
        "fig, ax = plt.subplots()\n",
        "ax.plot(history[0].history['val_acc'], label='Modelo 1')\n",
        "ax.plot(history[1].history['val_acc'], label='Modelo 2')\n",
        "ax.plot(history[2].history['val_acc'], label='Modelo 3')\n",
        "\n",
        "\n",
        "legend = ax.legend(loc='lower center', shadow=True, fontsize='large')\n",
        "plt.xlabel('Epoca')\n",
        "plt.ylabel('Accuracy da Validação')\n",
        "plt.savefig(images_path + 'metric_var_lr_val_accuracy.png', bbox_inches='tight', dpi=1000)\n",
        "plt.grid(True)\n",
        "plt.show()"
      ],
      "execution_count": 0,
      "outputs": []
    },
    {
      "cell_type": "code",
      "metadata": {
        "id": "HNsRaihJ_rCT",
        "colab_type": "code",
        "colab": {}
      },
      "source": [
        "fig, ax = plt.subplots()\n",
        "ax.plot(history[0].history['loss'], label='Modelo 1')\n",
        "ax.plot(history[1].history['loss'], label='Modelo 2')\n",
        "ax.plot(history[2].history['loss'], label='Modelo 3')\n",
        "\n",
        "\n",
        "legend = ax.legend(loc='upper center', shadow=True, fontsize='large')\n",
        "plt.xlabel('Epoca')\n",
        "plt.ylabel('Loss')\n",
        "plt.savefig(images_path + 'metric_var_lr_loss.png', bbox_inches='tight', dpi=1000)\n",
        "plt.grid(True)\n",
        "plt.show()"
      ],
      "execution_count": 0,
      "outputs": []
    },
    {
      "cell_type": "code",
      "metadata": {
        "id": "_5GNWQxrANK8",
        "colab_type": "code",
        "colab": {}
      },
      "source": [
        "fig, ax = plt.subplots()\n",
        "ax.plot(history[0].history['val_loss'], label='Modelo 1')\n",
        "ax.plot(history[1].history['val_loss'], label='Modelo 2')\n",
        "ax.plot(history[2].history['val_loss'], label='Modelo 3')\n",
        "\n",
        "legend = ax.legend(loc='lower center', shadow=True, fontsize='large')\n",
        "plt.xlabel('Epoca')\n",
        "plt.ylabel('Loss da Validação')\n",
        "plt.savefig(images_path + 'metric_var_lr_val_loss.png', bbox_inches='tight', dpi=1000)\n",
        "plt.grid(True)\n",
        "plt.show()"
      ],
      "execution_count": 0,
      "outputs": []
    },
    {
      "cell_type": "code",
      "metadata": {
        "id": "vjB7UIWKDTpL",
        "colab_type": "code",
        "colab": {}
      },
      "source": [
        "fig, ax = plt.subplots()\n",
        "ax.plot(history[0].history['val_acc'], '.',color = 'b', label='Modelo 1 V_Acc')\n",
        "ax.plot(history[0].history['acc'], '.', color = 'k', label='Modelo 1 Acc')\n",
        "chartBox = ax.get_position()\n",
        "ax.set_position([chartBox.x0, chartBox.y0, chartBox.width*1.5, chartBox.height])\n",
        "legend = ax.legend(loc='upper center', shadow=True, fontsize='large',bbox_to_anchor=(1.15, 0.8))\n",
        "plt.xlabel('Epoca')\n",
        "plt.ylabel('Fitting')\n",
        "plt.savefig(images_path + 'metric_var_lr_fitting1.png', bbox_inches='tight', dpi=1000)\n",
        "plt.grid(True)\n",
        "plt.show()\n",
        "\n",
        "fig, ax = plt.subplots()\n",
        "ax.plot(history[1].history['val_acc'], 'x',color = 'r', label='Modelo 2 V_Acc')\n",
        "ax.plot(history[1].history['acc'], 'x',color = 'c', label='Modelo 2 Acc')\n",
        "chartBox = ax.get_position()\n",
        "ax.set_position([chartBox.x0, chartBox.y0, chartBox.width*1.5, chartBox.height])\n",
        "legend = ax.legend(loc='upper center', shadow=True, fontsize='large',bbox_to_anchor=(1.15, 0.8))\n",
        "plt.xlabel('Epoca')\n",
        "plt.ylabel('Fitting')\n",
        "plt.savefig(images_path + 'metric_var_lr_fitting2.png', bbox_inches='tight', dpi=1000)\n",
        "plt.grid(True)\n",
        "plt.show()\n",
        "\n",
        "fig, ax = plt.subplots()\n",
        "ax.plot(history[2].history['val_acc'], 'd',color = 'm', label='Modelo 3 V_Acc')\n",
        "ax.plot(history[2].history['acc'], 'd',color = 'k', label='Modelo 3 Acc')\n",
        "chartBox = ax.get_position()\n",
        "ax.set_position([chartBox.x0, chartBox.y0, chartBox.width*1.5, chartBox.height])\n",
        "legend = ax.legend(loc='upper center', shadow=True, fontsize='large',bbox_to_anchor=(1.15, 0.8))\n",
        "plt.xlabel('Epoca')\n",
        "plt.ylabel('Fitting')\n",
        "plt.savefig(images_path + 'metric_var_lr_fitting3.png', bbox_inches='tight', dpi=1000)\n",
        "plt.grid(True)\n",
        "plt.show()\n"
      ],
      "execution_count": 0,
      "outputs": []
    },
    {
      "cell_type": "markdown",
      "metadata": {
        "id": "yrqh-GkAIzqG",
        "colab_type": "text"
      },
      "source": [
        "#Metricas"
      ]
    },
    {
      "cell_type": "code",
      "metadata": {
        "id": "uHj4YotKDBwC",
        "colab_type": "code",
        "colab": {}
      },
      "source": [
        "Y_pred1 = model_lr1.predict(x_test)\n",
        "\n",
        "import numpy as np\n",
        "y_pred1 = np.argmax(Y_pred1, axis=1)\n",
        "#print (y_pred1)\n",
        "Y_test = np.reshape(Y_test, len(Y_test))\n",
        "#print (Y_test)\n",
        "\n",
        "import sklearn.metrics as skmetrics\n",
        "labels = ['airplanes', 'cars', 'birds', 'cats', 'deer', 'dogs', 'frogs', 'horses', 'ships', 'trucks']\n",
        "#labels = [0, 1, 2, 3, 4, 5, 6, 7, 8, 9]\n",
        "cm = skmetrics.confusion_matrix(Y_test, y_pred1)\n",
        "#print(cm)\n",
        "fig = plt.figure()\n",
        "ax = fig.add_subplot(111)\n",
        "cax = ax.matshow(cm)\n",
        "plt.title('Confusion Matrix - Modelo 1')\n",
        "fig.colorbar(cax)\n",
        "ax.set_xticklabels(labels)\n",
        "ax.set_yticklabels(labels)\n",
        "ax.set_position([chartBox.x0*2.5, chartBox.y0, chartBox.width*2.5, chartBox.height*2.5])\n",
        "ax.set( xticks=np.arange(cm.shape[1]),\n",
        "        yticks=np.arange(cm.shape[0]))\n",
        "plt.xlabel('Predicted')\n",
        "plt.ylabel('True')\n",
        "plt.savefig(images_path + 'metric_var_lr_cm_model1_.png', bbox_inches='tight', dpi=1000)\n",
        "plt.show()"
      ],
      "execution_count": 0,
      "outputs": []
    },
    {
      "cell_type": "code",
      "metadata": {
        "id": "2GEaPAUCjY2X",
        "colab_type": "code",
        "colab": {}
      },
      "source": [
        "Y_pred2 = model_lr2.predict(x_test)\n",
        "\n",
        "import numpy as np\n",
        "y_pred2 = np.argmax(Y_pred2, axis=1)\n",
        "#print (y_pred2)\n",
        "Y_test = np.reshape(Y_test, len(Y_test))\n",
        "#print (Y_test)\n",
        "\n",
        "import sklearn.metrics as skmetrics\n",
        "labels = ['airplanes', 'cars', 'birds', 'cats', 'deer', 'dogs', 'frogs', 'horses', 'ships', 'trucks']\n",
        "cm = skmetrics.confusion_matrix(Y_test, y_pred2)\n",
        "#print(cm)\n",
        "fig = plt.figure()\n",
        "ax = fig.add_subplot(111)\n",
        "cax = ax.matshow(cm)\n",
        "plt.title('Confusion Matrix - Modelo 2')\n",
        "fig.colorbar(cax)\n",
        "ax.set_xticklabels(labels)\n",
        "ax.set_yticklabels(labels)\n",
        "ax.set_position([chartBox.x0*2.5, chartBox.y0, chartBox.width*2.5, chartBox.height*2.5])\n",
        "ax.set( xticks=np.arange(cm.shape[1]),\n",
        "        yticks=np.arange(cm.shape[0]))\n",
        "plt.xlabel('Predicted')\n",
        "plt.ylabel('True')\n",
        "plt.savefig(images_path + 'train_history_cm_model2_.png', bbox_inches='tight', dpi=1000)\n",
        "plt.show()"
      ],
      "execution_count": 0,
      "outputs": []
    },
    {
      "cell_type": "code",
      "metadata": {
        "id": "oS3tnrTPj4V7",
        "colab_type": "code",
        "colab": {}
      },
      "source": [
        "Y_pred3 = model_lr3.predict(x_test)\n",
        "\n",
        "import numpy as np\n",
        "y_pred3 = np.argmax(Y_pred3, axis=1)\n",
        "#print (y_pred2)\n",
        "Y_test = np.reshape(Y_test, len(Y_test))\n",
        "#print (Y_test)\n",
        "\n",
        "import sklearn.metrics as skmetrics\n",
        "labels = ['airplanes', 'cars', 'birds', 'cats', 'deer', 'dogs', 'frogs', 'horses', 'ships', 'trucks']\n",
        "cm = skmetrics.confusion_matrix(Y_test, y_pred3)\n",
        "#print(cm)\n",
        "fig = plt.figure()\n",
        "ax = fig.add_subplot(111)\n",
        "cax = ax.matshow(cm)\n",
        "plt.title('Confusion Matrix - Modelo 3')\n",
        "fig.colorbar(cax)\n",
        "ax.set_xticklabels(labels)\n",
        "ax.set_yticklabels(labels)\n",
        "ax.set_position([chartBox.x0*2.5, chartBox.y0, chartBox.width*2.5, chartBox.height*2.5])\n",
        "ax.set( xticks=np.arange(cm.shape[1]),\n",
        "        yticks=np.arange(cm.shape[0]))\n",
        "plt.xlabel('Predicted')\n",
        "plt.ylabel('True')\n",
        "plt.savefig(images_path + 'train_history_cm_model3_.png', bbox_inches='tight', dpi=1000)\n",
        "plt.show()"
      ],
      "execution_count": 0,
      "outputs": []
    },
    {
      "cell_type": "code",
      "metadata": {
        "id": "cw3MPTR8J_7T",
        "colab_type": "code",
        "colab": {}
      },
      "source": [
        "precision = {}\n",
        "recall = {}\n",
        "fbeta_score = {}\n",
        "support = {}\n",
        "precision[0], recall[0], fbeta_score[0], support[0] = skmetrics.precision_recall_fscore_support(Y_test, y_pred1)\n",
        "precision[1], recall[1], fbeta_score[1], support[1] = skmetrics.precision_recall_fscore_support(Y_test, y_pred2)\n",
        "precision[2], recall[2], fbeta_score[2], support[2] = skmetrics.precision_recall_fscore_support(Y_test, y_pred3)\n"
      ],
      "execution_count": 0,
      "outputs": []
    },
    {
      "cell_type": "code",
      "metadata": {
        "id": "EJD8625cobZL",
        "colab_type": "code",
        "colab": {}
      },
      "source": [
        "fig, ax = plt.subplots()\n",
        "ax.plot(labels,precision[0], label='Modelo 1')\n",
        "ax.plot(labels,precision[1], label='Modelo 2')\n",
        "ax.plot(labels,precision[2], label='Modelo 3')\n",
        "\n",
        "ax.set_position([chartBox.x0, chartBox.y0, chartBox.width*2.5, chartBox.height])\n",
        "legend = ax.legend(loc='upper center', shadow=True, fontsize='large')\n",
        "plt.xlabel('Class')\n",
        "plt.ylabel('Precision')\n",
        "plt.grid(True)\n",
        "plt.savefig(images_path + 'metric_var_lr_precision_.png', bbox_inches='tight', dpi=1000)\n",
        "plt.show()"
      ],
      "execution_count": 0,
      "outputs": []
    },
    {
      "cell_type": "code",
      "metadata": {
        "id": "40gvk8n0ppsd",
        "colab_type": "code",
        "colab": {}
      },
      "source": [
        "fig, ax = plt.subplots()\n",
        "ax.plot(labels,recall[0], label='Modelo 1')\n",
        "ax.plot(labels,recall[1], label='Modelo 2')\n",
        "ax.plot(labels,recall[2], label='Modelo 3')\n",
        "\n",
        "ax.set_position([chartBox.x0, chartBox.y0, chartBox.width*2.5, chartBox.height])\n",
        "legend = ax.legend(loc='upper center', shadow=True, fontsize='large')\n",
        "plt.xlabel('Class')\n",
        "plt.ylabel('Recall')\n",
        "plt.grid(True)\n",
        "plt.savefig(images_path + 'metric_var_lr_recall_.png', bbox_inches='tight', dpi=1000)\n",
        "plt.show()"
      ],
      "execution_count": 0,
      "outputs": []
    },
    {
      "cell_type": "code",
      "metadata": {
        "id": "9fzSDsGRp9-v",
        "colab_type": "code",
        "colab": {}
      },
      "source": [
        "fig, ax = plt.subplots()\n",
        "ax.plot(labels,fbeta_score[0], label='Modelo 1')\n",
        "ax.plot(labels,fbeta_score[1], label='Modelo 2')\n",
        "ax.plot(labels,fbeta_score[2], label='Modelo 3')\n",
        "\n",
        "ax.set_position([chartBox.x0, chartBox.y0, chartBox.width*2.5, chartBox.height])\n",
        "legend = ax.legend(loc='upper center', shadow=True, fontsize='large')\n",
        "plt.xlabel('Class')\n",
        "plt.ylabel('F Score')\n",
        "plt.grid(True)\n",
        "plt.savefig(images_path + 'metric_var_lr_fscore.png', bbox_inches='tight', dpi=1000)\n",
        "plt.show()"
      ],
      "execution_count": 0,
      "outputs": []
    },
    {
      "cell_type": "code",
      "metadata": {
        "id": "d8vlWitLez0s",
        "colab_type": "code",
        "colab": {}
      },
      "source": [
        "print('Modelo 1 \\n')\n",
        "print('accuracy ' + str(history[0].history['acc'][-1]))\n",
        "print('validation accuracy ' + str(history[0].history['val_acc'][-1]))\n",
        "print('loss ' + str(history[0].history['loss'][-1]))\n",
        "print('validation loss ' + str(history[0].history['val_loss'][-1]))"
      ],
      "execution_count": 0,
      "outputs": []
    },
    {
      "cell_type": "code",
      "metadata": {
        "id": "PbXWzm3Lez90",
        "colab_type": "code",
        "colab": {}
      },
      "source": [
        "print('Modelo 2 \\n')\n",
        "print('accuracy ' + str(history[1].history['acc'][-1]))\n",
        "print('validation accuracy ' + str(history[1].history['val_acc'][-1]))\n",
        "print('loss ' + str(history[1].history['loss'][-1]))\n",
        "print('validation loss ' + str(history[1].history['val_loss'][-1]))"
      ],
      "execution_count": 0,
      "outputs": []
    },
    {
      "cell_type": "code",
      "metadata": {
        "id": "V89jmmhde0E2",
        "colab_type": "code",
        "colab": {}
      },
      "source": [
        "print('Modelo 3 \\n')\n",
        "print('accuracy ' + str(history[2].history['acc'][-1]))\n",
        "print('validation accuracy ' + str(history[2].history['val_acc'][-1]))\n",
        "print('loss ' + str(history[2].history['loss'][-1]))\n",
        "print('validation loss ' + str(history[2].history['val_loss'][-1]))"
      ],
      "execution_count": 0,
      "outputs": []
    }
  ]
}